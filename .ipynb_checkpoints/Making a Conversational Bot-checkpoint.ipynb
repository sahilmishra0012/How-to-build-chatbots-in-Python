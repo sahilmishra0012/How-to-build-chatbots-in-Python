{
 "cells": [
  {
   "cell_type": "markdown",
   "metadata": {},
   "source": [
    "# Making a Conversational Bot"
   ]
  },
  {
   "cell_type": "markdown",
   "metadata": {},
   "source": [
    "## Install gnewsclient"
   ]
  },
  {
   "cell_type": "code",
   "execution_count": null,
   "metadata": {},
   "outputs": [],
   "source": [
    "pip install gnewsclient"
   ]
  },
  {
   "cell_type": "code",
   "execution_count": null,
   "metadata": {},
   "outputs": [],
   "source": [
    "from gnewsclient import gnewsclient"
   ]
  },
  {
   "cell_type": "code",
   "execution_count": null,
   "metadata": {},
   "outputs": [],
   "source": [
    "client = gnewsclient.NewsClient()"
   ]
  },
  {
   "cell_type": "code",
   "execution_count": null,
   "metadata": {},
   "outputs": [],
   "source": [
    "client.get_config()#{'location': 'United States', 'language': 'english', 'topic': 'Top Stories'}"
   ]
  },
  {
   "cell_type": "code",
   "execution_count": null,
   "metadata": {},
   "outputs": [],
   "source": [
    "client.location = 'India'\n",
    "client.language = 'Hindi'\n",
    "client.topic = 'Sports'"
   ]
  },
  {
   "cell_type": "code",
   "execution_count": null,
   "metadata": {},
   "outputs": [],
   "source": [
    "client.get_config()#{'location': 'India', 'language': 'Hindi', 'topic': 'Sports'}"
   ]
  },
  {
   "cell_type": "code",
   "execution_count": null,
   "metadata": {},
   "outputs": [],
   "source": [
    "client.get_news()#Fetches News"
   ]
  },
  {
   "cell_type": "markdown",
   "metadata": {},
   "source": [
    "## Code to integrate Bot with DialogFlow"
   ]
  },
  {
   "cell_type": "code",
   "execution_count": null,
   "metadata": {},
   "outputs": [],
   "source": [
    "#It creates Dialogflow sessions client with which we can get answers to different queries\n",
    "import os\n",
    "os.environ[\"GOOGLE_APPLICATION_CREDENTIALS\"] = \"client.json\"\n",
    "\n",
    "import dialogflow_v2 as dialogflow\n",
    "dialogflow_session_client = dialogflow.SessionsClient()\n",
    "PROJECT_ID = \"newsbot-vvcsuq\""
   ]
  },
  {
   "cell_type": "code",
   "execution_count": null,
   "metadata": {},
   "outputs": [],
   "source": [
    "#Utility function\n",
    "#Detect Intent from the text\n",
    "# Session ID is used to keep track of previous conversations\n",
    "def detect_intent_from_text(text, session_id, language_code='en'):\n",
    "    session = dialogflow_session_client.session_path(PROJECT_ID, session_id)\n",
    "    text_input = dialogflow.types.TextInput(text=text, language_code=language_code)\n",
    "    query_input = dialogflow.types.QueryInput(text=text_input)\n",
    "    response = dialogflow_session_client.detect_intent(session=session, query_input=query_input)\n",
    "    return response.query_result"
   ]
  },
  {
   "cell_type": "code",
   "execution_count": null,
   "metadata": {},
   "outputs": [],
   "source": [
    "def get_reply(query, chat_id):\n",
    "    response = detect_intent_from_text(query, chat_id)\n",
    "    if response.intent.display_name == 'get_news':\n",
    "        return \"get_news\", dict(response.parameters)\n",
    "    else:\n",
    "        return \"small_talk\", response.fulfillment_text"
   ]
  },
  {
   "cell_type": "code",
   "execution_count": null,
   "metadata": {},
   "outputs": [],
   "source": [
    "from gnewsclient import gnewsclient\n",
    "client = gnewsclient.NewsClient()\n",
    "def fetch_news(parameters):\n",
    "    client.language = parameters.get('language')\n",
    "    client.location = parameters.get('geo-country')\n",
    "    client.topic = parameters.get('topic')\n",
    "    \n",
    "    return client.get_news()[:5]"
   ]
  },
  {
   "cell_type": "code",
   "execution_count": null,
   "metadata": {},
   "outputs": [],
   "source": [
    "import logging\n",
    "from flask import Flask, request\n",
    "from telegram.ext import Updater, CommandHandler, MessageHandler, Filters, Dispatcher\n",
    "from telegram import Bot, Update\n",
    "\n",
    "# enable logging\n",
    "logging.basicConfig(format='%(asctime)s - %(name)s - %(levelname)s - %(message)s', level=logging.INFO)\n",
    "logger = logging.getLogger(__name__)\n",
    "\n",
    "# telegram bot token\n",
    "TOKEN = \"751574535:AAEmH7gCd_fKSkE4cWt7cbrrQry8vX9fGf4\"\n",
    "\n",
    "app = Flask(__name__)\n",
    "\n",
    "\n",
    "@app.route('/')\n",
    "def index():\n",
    "    return \"Hello!\"\n",
    "\n",
    "\n",
    "@app.route(f'/{TOKEN}', methods=['GET', 'POST'])\n",
    "def webhook():\n",
    "    \"\"\"webhook view which receives updates from telegram\"\"\"\n",
    "    # create update object from json-format request data\n",
    "    update = Update.de_json(request.get_json(), bot)\n",
    "    # process update\n",
    "    dp.process_update(update)\n",
    "    return \"ok\"\n",
    "\n",
    "\n",
    "def start(bot, update):\n",
    "    \"\"\"callback function for /start handler\"\"\"\n",
    "    author = update.message.from_user.first_name\n",
    "    reply = \"Hi! {}\".format(author)\n",
    "    bot.send_message(chat_id=update.message.chat_id, text=reply)\n",
    "\n",
    "\n",
    "def _help(bot, update):\n",
    "    \"\"\"callback function for /help handler\"\"\"\n",
    "    help_txt = \"Hey! This is a help text.\"\n",
    "    bot.send_message(chat_id=update.message.chat_id, text=help_txt)\n",
    "\n",
    "\n",
    "def reply_text(bot, update):\n",
    "    \"\"\"callback function for text message handler\"\"\"\n",
    "    intent,reply = get_reply(update.message.text,update.message.chat_id)\n",
    "    if intent=='get_news':\n",
    "        articles=fetch_news(reply)\n",
    "        for article in articles:\n",
    "            bot.send_message(chat_id=update.message.chat_id, text=article['link'])\n",
    "    else:\n",
    "        bot.send_message(chat_id=update.message.chat_id, text=reply)\n",
    "\n",
    "\n",
    "\n",
    "def echo_sticker(bot, update):\n",
    "    \"\"\"callback function for sticker message handler\"\"\"\n",
    "    bot.send_sticker(chat_id=update.message.chat_id,\n",
    "                     sticker=update.message.sticker.file_id)\n",
    "\n",
    "\n",
    "def error(bot, update):\n",
    "    \"\"\"callback function for error handler\"\"\"\n",
    "    logger.error(\"Update '%s' caused error '%s'\", update, update.error)\n",
    "\n",
    "\n",
    "if __name__ == \"__main__\":\n",
    "    bot = Bot(TOKEN)\n",
    "    bot.set_webhook(\"https://yoururl.ngrok.io/\" + TOKEN)\n",
    "\n",
    "    dp = Dispatcher(bot, None)\n",
    "    dp.add_handler(CommandHandler(\"start\", start))\n",
    "    dp.add_handler(CommandHandler(\"help\", _help))\n",
    "    dp.add_handler(MessageHandler(Filters.text, reply_text))\n",
    "    dp.add_handler(MessageHandler(Filters.sticker, echo_sticker))\n",
    "    dp.add_error_handler(error)\n",
    "\n",
    "    app.run(port=8443)"
   ]
  }
 ],
 "metadata": {
  "kernelspec": {
   "display_name": "Python 3",
   "language": "python",
   "name": "python3"
  },
  "language_info": {
   "codemirror_mode": {
    "name": "ipython",
    "version": 3
   },
   "file_extension": ".py",
   "mimetype": "text/x-python",
   "name": "python",
   "nbconvert_exporter": "python",
   "pygments_lexer": "ipython3",
   "version": "3.7.3"
  },
  "toc": {
   "base_numbering": 1,
   "nav_menu": {},
   "number_sections": true,
   "sideBar": true,
   "skip_h1_title": false,
   "title_cell": "Table of Contents",
   "title_sidebar": "Contents",
   "toc_cell": false,
   "toc_position": {},
   "toc_section_display": true,
   "toc_window_display": false
  },
  "varInspector": {
   "cols": {
    "lenName": 16,
    "lenType": 16,
    "lenVar": 40
   },
   "kernels_config": {
    "python": {
     "delete_cmd_postfix": "",
     "delete_cmd_prefix": "del ",
     "library": "var_list.py",
     "varRefreshCmd": "print(var_dic_list())"
    },
    "r": {
     "delete_cmd_postfix": ") ",
     "delete_cmd_prefix": "rm(",
     "library": "var_list.r",
     "varRefreshCmd": "cat(var_dic_list()) "
    }
   },
   "types_to_exclude": [
    "module",
    "function",
    "builtin_function_or_method",
    "instance",
    "_Feature"
   ],
   "window_display": false
  }
 },
 "nbformat": 4,
 "nbformat_minor": 2
}
