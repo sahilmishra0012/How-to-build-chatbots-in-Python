{
 "cells": [
  {
   "cell_type": "markdown",
   "metadata": {},
   "source": [
    "<h1> Chat Bots using Python(Part 1)<h1>"
   ]
  },
  {
   "cell_type": "markdown",
   "metadata": {},
   "source": [
    "## What is a Telegram Bot?"
   ]
  },
  {
   "cell_type": "markdown",
   "metadata": {},
   "source": [
    "<img src=BotFather.jpg>"
   ]
  },
  {
   "cell_type": "markdown",
   "metadata": {},
   "source": [
    "Bots are third-party applications that run inside Telegram. Users can interact with bots by sending them messages, commands and inline requests. You control your bots using HTTPS requests to Telegram Bot API. These accounts serve as an interface for code running somewhere on your server."
   ]
  },
  {
   "cell_type": "markdown",
   "metadata": {},
   "source": [
    "## Polling Program"
   ]
  },
  {
   "cell_type": "markdown",
   "metadata": {},
   "source": [
    "<img src=polling.png>"
   ]
  },
  {
   "cell_type": "markdown",
   "metadata": {},
   "source": [
    "Before user starts asking or giving /start command, polling program keeps asking the Telegram server whether it got any message or not. When the user says /start, Telegram server tells the polling program that it received /start."
   ]
  },
  {
   "cell_type": "markdown",
   "metadata": {},
   "source": [
    "## Echo Bot"
   ]
  },
  {
   "cell_type": "markdown",
   "metadata": {},
   "source": [
    "Echo bot is a very simple bot which returns the message the user sends to it."
   ]
  },
  {
   "cell_type": "markdown",
   "metadata": {},
   "source": [
    "## Setting up the Project"
   ]
  },
  {
   "cell_type": "markdown",
   "metadata": {},
   "source": [
    "### Setup a Python Virtual Environment"
   ]
  },
  {
   "cell_type": "markdown",
   "metadata": {},
   "source": [
    "A virtual environment is a tool that helps to keep dependencies required by different projects separate by creating isolated python virtual environments for them."
   ]
  },
  {
   "cell_type": "markdown",
   "metadata": {},
   "source": [
    "- Create a Project Folder.\n",
    "- Run following command to create a new virtual environment inside your project folder:"
   ]
  },
  {
   "cell_type": "code",
   "execution_count": null,
   "metadata": {},
   "outputs": [],
   "source": [
    "python -m venv myvenv"
   ]
  },
  {
   "cell_type": "markdown",
   "metadata": {},
   "source": [
    "After running above command, a folder named myvenv will get created in your project folder."
   ]
  },
  {
   "cell_type": "markdown",
   "metadata": {},
   "source": [
    "- Activate the virtual environment by running following command:\n",
    "    - For ubuntu and mac users: \n",
    "            source myvenv/bin/activate\n",
    "    - For windows users: \n",
    "            myvenv\\Scripts\\activate"
   ]
  },
  {
   "cell_type": "markdown",
   "metadata": {},
   "source": [
    "### Install required Python Packages:"
   ]
  },
  {
   "cell_type": "code",
   "execution_count": null,
   "metadata": {},
   "outputs": [],
   "source": [
    "pip install python-telegram-bot"
   ]
  },
  {
   "cell_type": "markdown",
   "metadata": {},
   "source": [
    "##### Now we are done with basic package installations. If we need any other package, we will install it later."
   ]
  },
  {
   "cell_type": "markdown",
   "metadata": {},
   "source": [
    "   "
   ]
  },
  {
   "cell_type": "markdown",
   "metadata": {},
   "source": [
    "   "
   ]
  },
  {
   "cell_type": "markdown",
   "metadata": {},
   "source": [
    "## Steps to create a chat bot:"
   ]
  },
  {
   "cell_type": "markdown",
   "metadata": {},
   "source": [
    "### Enable Logging"
   ]
  },
  {
   "cell_type": "markdown",
   "metadata": {},
   "source": [
    "Logging means that any kind of activity(error,warning, etc). We want that kind of information to be passed in a systematic manner. It shows all kind of information easily or any logs while the bot is running."
   ]
  },
  {
   "cell_type": "code",
   "execution_count": null,
   "metadata": {},
   "outputs": [],
   "source": [
    "import logging"
   ]
  },
  {
   "cell_type": "code",
   "execution_count": null,
   "metadata": {},
   "outputs": [],
   "source": [
    "logging.basicConfig(format='%(asctime)s - %(name)s - %(levelname)s - %(message)s', level=logging.INFO)"
   ]
  },
  {
   "cell_type": "code",
   "execution_count": null,
   "metadata": {},
   "outputs": [],
   "source": [
    "logger = logging.getLogger(__name__) #logger object that creates any kind of logs for our program."
   ]
  },
  {
   "cell_type": "markdown",
   "metadata": {},
   "source": [
    "### Create an Updater"
   ]
  },
  {
   "cell_type": "code",
   "execution_count": null,
   "metadata": {},
   "outputs": [],
   "source": [
    "updater = Updater(TOKEN) #Receives updates from Telegram and delivers them tom dispacher."
   ]
  },
  {
   "cell_type": "markdown",
   "metadata": {},
   "source": [
    "### Create Dispatcher"
   ]
  },
  {
   "cell_type": "code",
   "execution_count": null,
   "metadata": {
    "ExecuteTime": {
     "end_time": "2019-06-20T06:39:01.806157Z",
     "start_time": "2019-06-20T06:39:01.505603Z"
    }
   },
   "outputs": [],
   "source": [
    "dp=updater.dispatcher"
   ]
  },
  {
   "cell_type": "markdown",
   "metadata": {},
   "source": [
    "### Add Handlers"
   ]
  },
  {
   "cell_type": "markdown",
   "metadata": {},
   "source": [
    "#### To handle /start command"
   ]
  },
  {
   "cell_type": "code",
   "execution_count": null,
   "metadata": {},
   "outputs": [],
   "source": [
    "# Command Handler is the method to create commands and supply them with respective methods.\n",
    "dp.add_handler(CommandHandler(\"start\",start)) #It calls start method"
   ]
  },
  {
   "cell_type": "code",
   "execution_count": null,
   "metadata": {},
   "outputs": [],
   "source": [
    "def start(bot,update):\n",
    "    print(update)\n",
    "    author = update.message.from_user.first_name\n",
    "    reply = \"Hi! {}\".format(author)\n",
    "    bot.send_message(chat_id=update.message.chat_id,text=reply)"
   ]
  },
  {
   "cell_type": "markdown",
   "metadata": {},
   "source": [
    "#### To handle /help command"
   ]
  },
  {
   "cell_type": "code",
   "execution_count": null,
   "metadata": {},
   "outputs": [],
   "source": [
    "dp.add_handler(CommandHandler(\"help\", _help))"
   ]
  },
  {
   "cell_type": "code",
   "execution_count": null,
   "metadata": {},
   "outputs": [],
   "source": [
    "def _help(bot,update):\n",
    "    bot.send_message(chat_id=update.message.chat_id,text=\"Help Message\")"
   ]
  },
  {
   "cell_type": "markdown",
   "metadata": {},
   "source": [
    "#### To handle text messages"
   ]
  },
  {
   "cell_type": "code",
   "execution_count": null,
   "metadata": {},
   "outputs": [],
   "source": [
    "dp.add_handler(MessageHandler(Filters.text, echo_text))"
   ]
  },
  {
   "cell_type": "code",
   "execution_count": null,
   "metadata": {},
   "outputs": [],
   "source": [
    "def echo_text(bot,update):\n",
    "    bot.send_message(chat_id=update.message.chat_id,text=update.message.text)"
   ]
  },
  {
   "cell_type": "markdown",
   "metadata": {},
   "source": [
    "#### To handle stickers"
   ]
  },
  {
   "cell_type": "code",
   "execution_count": null,
   "metadata": {},
   "outputs": [],
   "source": [
    "dp.add_handler(MessageHandler(Filters.sticker, echo_sticker))"
   ]
  },
  {
   "cell_type": "code",
   "execution_count": null,
   "metadata": {},
   "outputs": [],
   "source": [
    "def echo_sticker(bot,update):\n",
    "    bot.send_message(chat_id=update.message.chat_id,text=update.message.sticker_file_id)"
   ]
  },
  {
   "cell_type": "markdown",
   "metadata": {},
   "source": [
    "#### To handle errors"
   ]
  },
  {
   "cell_type": "code",
   "execution_count": null,
   "metadata": {},
   "outputs": [],
   "source": [
    "dp.add_error_handler(error)"
   ]
  },
  {
   "cell_type": "code",
   "execution_count": null,
   "metadata": {},
   "outputs": [],
   "source": [
    "def error(bot, update):\n",
    "    logger.error(\"Update '%s' caused error '%s'\", update, update.error)"
   ]
  },
  {
   "cell_type": "markdown",
   "metadata": {},
   "source": [
    "### Start Polling and wait for any signal to end the program"
   ]
  },
  {
   "cell_type": "code",
   "execution_count": null,
   "metadata": {},
   "outputs": [],
   "source": [
    "updater.start_polling()"
   ]
  },
  {
   "cell_type": "code",
   "execution_count": null,
   "metadata": {},
   "outputs": [],
   "source": [
    "updater.idle()"
   ]
  },
  {
   "cell_type": "markdown",
   "metadata": {},
   "source": [
    "## Code:"
   ]
  },
  {
   "cell_type": "code",
   "execution_count": null,
   "metadata": {},
   "outputs": [],
   "source": [
    "import logging\n",
    "from telegram.ext import Updater, CommandHandler, MessageHandler, Filters\n",
    "\n",
    "# enable logging\n",
    "logging.basicConfig(format='%(asctime)s - %(name)s - %(levelname)s - %(message)s', level=logging.INFO)\n",
    "logger = logging.getLogger(__name__)\n",
    "\n",
    "# telegram bot token\n",
    "TOKEN = \"Get Your Token\"\n",
    "\n",
    "\n",
    "def start(bot, update):\n",
    "    \"\"\"callback function for /start handler\"\"\"\n",
    "    author = update.message.from_user.first_name\n",
    "    reply = \"Hi! {}\".format(author)\n",
    "    bot.send_message(chat_id=update.message.chat_id, text=reply)\n",
    "\n",
    "\n",
    "def _help(bot, update):\n",
    "    \"\"\"callback function for /help handler\"\"\"\n",
    "    help_txt = \"Hey! This is a help text.\"\n",
    "    bot.send_message(chat_id=update.message.chat_id, text=help_txt)\n",
    "\n",
    "\n",
    "def echo_text(bot, update):\n",
    "    \"\"\"callback function for text message handler\"\"\"\n",
    "    reply = update.message.text\n",
    "    bot.send_message(chat_id=update.message.chat_id, text=reply)\n",
    "\n",
    "\n",
    "def echo_sticker(bot, update):\n",
    "    \"\"\"callback function for sticker message handler\"\"\"\n",
    "    bot.send_sticker(chat_id=update.message.chat_id,\n",
    "                     sticker=update.message.sticker.file_id)\n",
    "\n",
    "\n",
    "def error(bot, update):\n",
    "    \"\"\"callback function for error handler\"\"\"\n",
    "    logger.error(\"Update '%s' caused error '%s'\", update, update.error)\n",
    "\n",
    "\n",
    "def main():\n",
    "    updater = Updater(TOKEN)\n",
    "\n",
    "    dp = updater.dispatcher\n",
    "\n",
    "    dp.add_handler(CommandHandler(\"start\", start))\n",
    "    dp.add_handler(CommandHandler(\"help\", _help))\n",
    "    dp.add_handler(MessageHandler(Filters.text, echo_text))\n",
    "    dp.add_handler(MessageHandler(Filters.sticker, echo_sticker))\n",
    "    dp.add_error_handler(error)\n",
    "\n",
    "    updater.start_polling()\n",
    "    logger.info(\"Started polling...\")\n",
    "    updater.idle()\n",
    "\n",
    "\n",
    "if __name__ == \"__main__\":\n",
    "    main()"
   ]
  }
 ],
 "metadata": {
  "kernelspec": {
   "display_name": "Python 3",
   "language": "python",
   "name": "python3"
  },
  "language_info": {
   "codemirror_mode": {
    "name": "ipython",
    "version": 3
   },
   "file_extension": ".py",
   "mimetype": "text/x-python",
   "name": "python",
   "nbconvert_exporter": "python",
   "pygments_lexer": "ipython3",
   "version": "3.7.3"
  },
  "toc": {
   "base_numbering": 1,
   "nav_menu": {},
   "number_sections": true,
   "sideBar": true,
   "skip_h1_title": false,
   "title_cell": "Table of Contents",
   "title_sidebar": "Contents",
   "toc_cell": false,
   "toc_position": {},
   "toc_section_display": true,
   "toc_window_display": false
  },
  "varInspector": {
   "cols": {
    "lenName": 16,
    "lenType": 16,
    "lenVar": 40
   },
   "kernels_config": {
    "python": {
     "delete_cmd_postfix": "",
     "delete_cmd_prefix": "del ",
     "library": "var_list.py",
     "varRefreshCmd": "print(var_dic_list())"
    },
    "r": {
     "delete_cmd_postfix": ") ",
     "delete_cmd_prefix": "rm(",
     "library": "var_list.r",
     "varRefreshCmd": "cat(var_dic_list()) "
    }
   },
   "types_to_exclude": [
    "module",
    "function",
    "builtin_function_or_method",
    "instance",
    "_Feature"
   ],
   "window_display": false
  }
 },
 "nbformat": 4,
 "nbformat_minor": 2
}
