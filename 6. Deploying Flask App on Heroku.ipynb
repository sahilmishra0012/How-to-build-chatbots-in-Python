{
 "cells": [
  {
   "cell_type": "markdown",
   "metadata": {},
   "source": [
    "# Heroku Deployment"
   ]
  },
  {
   "cell_type": "markdown",
   "metadata": {},
   "source": [
    ">*Heroku is a platform as a service (PaaS) that enables developers to build, run, and operate applications entirely in the cloud.*"
   ]
  },
  {
   "cell_type": "markdown",
   "metadata": {},
   "source": [
    "## Create some new files for Heroku deployment"
   ]
  },
  {
   "cell_type": "markdown",
   "metadata": {},
   "source": [
    "\n",
    "### Procfile\n",
    "A Procfile is a mechanism for declaring what commands are run by your application's dynos on the Heroku platform.\n",
    "It tells the way by which python applications will be run on Heroku. `gunicorn` runs smoothly. We need to take out code out of ____name____=='____main____' except app.run()  to run it by gunicorn.\n",
    "```\n",
    "web gunicorn app:app\n",
    "```\n",
    "\n",
    "Also, install `gunicorn` in your virtual environment:\n",
    "```\n",
    "pip install gunicorn\n",
    "```\n",
    "We need to put set_webhook in try-except so that multiple workers process multiple requests and process them without overlapping.\n",
    "\n",
    "```\n",
    "try:\n",
    "    bot.set_webhook(\"Server URL\"+TOKEN)\n",
    "except Exception as e:\n",
    "    print(e)\n",
    "```\n",
    "\n",
    "### runtime.txt\n",
    "\n",
    "To specify a particular version of Python via your app's runtime.txt\n",
    "\n",
    "```\n",
    "python-3.7.3\n",
    "```\n",
    "\n",
    "### requirements.txt\n",
    "\n",
    "Contains all 3rd party libraries required by your app.\n",
    "\n",
    "Simply do:\n",
    "```\n",
    "pip freeze > requirements.txt\n",
    "```\n",
    "\n",
    "to generate a **requirements.txt** file. Remove pkg-resources==0.0.0 if using linux or mac.\n",
    "\n",
    "### .gitignore\n",
    "Heroku has its own virtual environment. So we need to drop few files from running on heroku.\n",
    "\n",
    ".gitignore file specifies patterns which are used to exclude certain files in your working directory from your Git history.\n",
    "\n",
    "```\n",
    "myvenv/\n",
    "*.pyc\n",
    "```\n",
    "\n",
    "----------------------------------------------------------------------------------------------------------------\n",
    "----------------------------------------------------------------------------------------------------------------\n",
    "----------------------------------------------------------------------------------------------------------------"
   ]
  },
  {
   "cell_type": "markdown",
   "metadata": {},
   "source": [
    "## Now, its time to create a Heroku app!\n",
    "\n",
    "\n",
    "### Setup Git repository\n",
    "\n",
    "- Initialize a new git repository in your project folder.\n",
    "```\n",
    "git init\n",
    "```\n",
    "    \n",
    "- Add all untracked files to git repository by:\n",
    "```\n",
    "git add .\n",
    "```\n",
    "    \n",
    "- Commit the changes to git repository by:\n",
    "```\n",
    "git commit -m \"YOUR_COMMIT_MESSAGE_HERE\"\n",
    "```\n",
    "    \n",
    "### Create a new heroku account\n",
    "\n",
    "\n",
    "### Download Heroku CLI\n",
    "\n",
    "\n",
    "### Create a new Heroku app.\n",
    "```\n",
    "heroku create <your-app-name>\n",
    "```\n",
    "\n",
    "### Edit `app.py` and set webhook URL as your Heroku app's URL\n",
    "\n",
    "```python\n",
    "bot.set_webhook(\"https://frozen-thicket-87150.herokuapp.com/\" + TOKEN)\n",
    "```\n",
    "\n",
    "### Finally, you are ready to deploy your app by pushing your *local git repository* to the remote *heroku app's git repository* by: \n",
    "```\n",
    "git push heroku master\n",
    "```\n",
    "    \n",
    "### To check the logs of your heroku app:\n",
    "```\n",
    "heroku logs\n",
    "```"
   ]
  }
 ],
 "metadata": {
  "kernelspec": {
   "display_name": "Python 3",
   "language": "python",
   "name": "python3"
  },
  "language_info": {
   "codemirror_mode": {
    "name": "ipython",
    "version": 3
   },
   "file_extension": ".py",
   "mimetype": "text/x-python",
   "name": "python",
   "nbconvert_exporter": "python",
   "pygments_lexer": "ipython3",
   "version": "3.7.3"
  },
  "toc": {
   "base_numbering": 1,
   "nav_menu": {},
   "number_sections": true,
   "sideBar": true,
   "skip_h1_title": false,
   "title_cell": "Table of Contents",
   "title_sidebar": "Contents",
   "toc_cell": false,
   "toc_position": {},
   "toc_section_display": true,
   "toc_window_display": false
  },
  "varInspector": {
   "cols": {
    "lenName": 16,
    "lenType": 16,
    "lenVar": 40
   },
   "kernels_config": {
    "python": {
     "delete_cmd_postfix": "",
     "delete_cmd_prefix": "del ",
     "library": "var_list.py",
     "varRefreshCmd": "print(var_dic_list())"
    },
    "r": {
     "delete_cmd_postfix": ") ",
     "delete_cmd_prefix": "rm(",
     "library": "var_list.r",
     "varRefreshCmd": "cat(var_dic_list()) "
    }
   },
   "types_to_exclude": [
    "module",
    "function",
    "builtin_function_or_method",
    "instance",
    "_Feature"
   ],
   "window_display": false
  }
 },
 "nbformat": 4,
 "nbformat_minor": 2
}
