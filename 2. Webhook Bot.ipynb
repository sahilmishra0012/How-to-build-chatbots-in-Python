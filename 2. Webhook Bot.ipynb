{
 "cells": [
  {
   "cell_type": "markdown",
   "metadata": {},
   "source": [
    "<h1> Chat Bots using Python(Part 2)<h1>"
   ]
  },
  {
   "cell_type": "markdown",
   "metadata": {},
   "source": [
    "## Setting Up Webhook:"
   ]
  },
  {
   "cell_type": "markdown",
   "metadata": {},
   "source": [
    "Bots are third-party applications that run inside Telegram. Users can interact with bots by sending them messages, commands and inline requests. You control your bots using HTTPS requests to Telegram Bot API. These accounts serve as an interface for code running somewhere on your server."
   ]
  },
  {
   "cell_type": "markdown",
   "metadata": {},
   "source": [
    "## Chat Bot using Webhook"
   ]
  },
  {
   "cell_type": "markdown",
   "metadata": {},
   "source": [
    "<img src=webhook.png>"
   ]
  },
  {
   "cell_type": "markdown",
   "metadata": {},
   "source": [
    "Callback URL: The URL on which Telegram server runs. Telegram server receives requests from user to bot. Then server sends that request to your callback URL. Local server receives requests and reply to it. We do not have to poll server everytime, instead Telegram server sends particular request to local server and local server will reply to it."
   ]
  },
  {
   "cell_type": "markdown",
   "metadata": {
    "ExecuteTime": {
     "end_time": "2019-06-20T07:35:04.436110Z",
     "start_time": "2019-06-20T07:35:04.427133Z"
    }
   },
   "source": [
    "<b>Ports currently supported for Webhooks: 443, 80, 88, 8443</b>"
   ]
  },
  {
   "cell_type": "markdown",
   "metadata": {},
   "source": [
    "Webhooks save resources by preventing sending of excess requests. They are used when our bot is quite heavy or have a lot of users."
   ]
  },
  {
   "cell_type": "markdown",
   "metadata": {},
   "source": [
    "## Setting Up Server"
   ]
  },
  {
   "cell_type": "markdown",
   "metadata": {},
   "source": [
    "### Install Flask(Microweb Framework)"
   ]
  },
  {
   "cell_type": "code",
   "execution_count": null,
   "metadata": {},
   "outputs": [],
   "source": [
    "pip install flask"
   ]
  },
  {
   "cell_type": "markdown",
   "metadata": {},
   "source": [
    "### Create Bot Object"
   ]
  },
  {
   "cell_type": "code",
   "execution_count": null,
   "metadata": {},
   "outputs": [],
   "source": [
    "bot=Bot(TOKEN) #create Telegram Bot object"
   ]
  },
  {
   "cell_type": "markdown",
   "metadata": {},
   "source": [
    "### Setup Webhook"
   ]
  },
  {
   "cell_type": "code",
   "execution_count": null,
   "metadata": {},
   "outputs": [],
   "source": [
    "bot.set_webhook(\"callback url(ngrok)\"+TOKEN)"
   ]
  },
  {
   "cell_type": "markdown",
   "metadata": {},
   "source": [
    "### Create Dispatcher object"
   ]
  },
  {
   "cell_type": "code",
   "execution_count": null,
   "metadata": {},
   "outputs": [],
   "source": [
    "dp=Dispatcher(bot, None)# 2nd argument asks for a queue object to store pending requests. We keep it null\n",
    "                        #for a while."
   ]
  },
  {
   "cell_type": "markdown",
   "metadata": {},
   "source": [
    "   "
   ]
  },
  {
   "cell_type": "markdown",
   "metadata": {},
   "source": [
    "### Create an app object"
   ]
  },
  {
   "cell_type": "code",
   "execution_count": null,
   "metadata": {},
   "outputs": [],
   "source": [
    "app=Flask(__name__)"
   ]
  },
  {
   "cell_type": "markdown",
   "metadata": {},
   "source": [
    "### Create view for testing"
   ]
  },
  {
   "cell_type": "code",
   "execution_count": null,
   "metadata": {},
   "outputs": [],
   "source": [
    "#Create view or endpoint to receive some request.\n",
    "@app.route('/')"
   ]
  },
  {
   "cell_type": "code",
   "execution_count": null,
   "metadata": {},
   "outputs": [],
   "source": [
    "#For testing\n",
    "def index():\n",
    "    return \"Hello\""
   ]
  },
  {
   "cell_type": "markdown",
   "metadata": {},
   "source": [
    "### Create view to handle webhooks"
   ]
  },
  {
   "cell_type": "code",
   "execution_count": null,
   "metadata": {},
   "outputs": [],
   "source": [
    "@app.route(f'/{TOKEN}', methods=['GET', 'POST'])\n",
    "def webhook():\n",
    "    \"\"\"webhook view which receives updates from telegram\"\"\"\n",
    "    # create update object from json-format request data\n",
    "    \n",
    "    #Telegram sends update in form of json object. Convert it to an update object.\n",
    "    update = Update.de_json(request.get_json(), bot)\n",
    "    # dispatcher handles process updates\n",
    "    dp.process_update(update)\n",
    "    return \"ok\""
   ]
  },
  {
   "cell_type": "markdown",
   "metadata": {},
   "source": [
    "### Create an Updater"
   ]
  },
  {
   "cell_type": "code",
   "execution_count": null,
   "metadata": {},
   "outputs": [],
   "source": [
    "updater = Updater(TOKEN) #Receives updates from Telegram and delivers them tom dispacher."
   ]
  },
  {
   "cell_type": "markdown",
   "metadata": {},
   "source": [
    "### Create Dispatcher"
   ]
  },
  {
   "cell_type": "code",
   "execution_count": null,
   "metadata": {
    "ExecuteTime": {
     "end_time": "2019-06-20T06:39:01.806157Z",
     "start_time": "2019-06-20T06:39:01.505603Z"
    }
   },
   "outputs": [],
   "source": [
    "dp=updater.dispatcher"
   ]
  },
  {
   "cell_type": "markdown",
   "metadata": {},
   "source": [
    "### Add Handlers"
   ]
  },
  {
   "cell_type": "markdown",
   "metadata": {},
   "source": [
    "#### To handle /start command"
   ]
  },
  {
   "cell_type": "code",
   "execution_count": null,
   "metadata": {},
   "outputs": [],
   "source": [
    "# Command Handler is the method to create commands and supply them with respective methods.\n",
    "dp.add_handler(CommandHandler(\"start\",start)) #It calls start method"
   ]
  },
  {
   "cell_type": "code",
   "execution_count": null,
   "metadata": {},
   "outputs": [],
   "source": [
    "def start(bot,update):\n",
    "    print(update)\n",
    "    author = update.message.from_user.first_name\n",
    "    reply = \"Hi! {}\".format(author)\n",
    "    bot.send_message(chat_id=update.message.chat_id,text=reply)"
   ]
  },
  {
   "cell_type": "markdown",
   "metadata": {},
   "source": [
    "#### To handle /help command"
   ]
  },
  {
   "cell_type": "code",
   "execution_count": null,
   "metadata": {},
   "outputs": [],
   "source": [
    "dp.add_handler(CommandHandler(\"help\", _help))"
   ]
  },
  {
   "cell_type": "code",
   "execution_count": null,
   "metadata": {},
   "outputs": [],
   "source": [
    "def _help(bot,update):\n",
    "    bot.send_message(chat_id=update.message.chat_id,text=\"Help Message\")"
   ]
  },
  {
   "cell_type": "markdown",
   "metadata": {},
   "source": [
    "#### To handle text messages"
   ]
  },
  {
   "cell_type": "code",
   "execution_count": null,
   "metadata": {},
   "outputs": [],
   "source": [
    "dp.add_handler(MessageHandler(Filters.text, echo_text))"
   ]
  },
  {
   "cell_type": "code",
   "execution_count": null,
   "metadata": {},
   "outputs": [],
   "source": [
    "def echo_text(bot,update):\n",
    "    bot.send_message(chat_id=update.message.chat_id,text=update.message.text)"
   ]
  },
  {
   "cell_type": "markdown",
   "metadata": {},
   "source": [
    "#### To handle stickers"
   ]
  },
  {
   "cell_type": "code",
   "execution_count": null,
   "metadata": {},
   "outputs": [],
   "source": [
    "dp.add_handler(MessageHandler(Filters.sticker, echo_sticker))"
   ]
  },
  {
   "cell_type": "code",
   "execution_count": null,
   "metadata": {},
   "outputs": [],
   "source": [
    "def echo_sticker(bot,update):\n",
    "    bot.send_message(chat_id=update.message.chat_id,text=update.message.sticker_file_id)"
   ]
  },
  {
   "cell_type": "markdown",
   "metadata": {},
   "source": [
    "#### To handle errors"
   ]
  },
  {
   "cell_type": "code",
   "execution_count": null,
   "metadata": {},
   "outputs": [],
   "source": [
    "dp.add_error_handler(error)"
   ]
  },
  {
   "cell_type": "code",
   "execution_count": null,
   "metadata": {},
   "outputs": [],
   "source": [
    "def error(bot, update):\n",
    "    logger.error(\"Update '%s' caused error '%s'\", update, update.error)"
   ]
  },
  {
   "cell_type": "markdown",
   "metadata": {},
   "source": [
    "## ngrok"
   ]
  },
  {
   "cell_type": "markdown",
   "metadata": {},
   "source": [
    "<img src=\"ngrok.png\" >"
   ]
  },
  {
   "cell_type": "markdown",
   "metadata": {},
   "source": [
    "It is a free tool that allows us to tunnel from public URL to our application running locally."
   ]
  },
  {
   "cell_type": "markdown",
   "metadata": {},
   "source": [
    "- Download ngrok (from ngrok.io)\n",
    "- Unzip it\n",
    "- Run this command to start ngrok\n",
    "            ./ngrok http 8443\n",
    "- Copy the HTTPS forwarding URL"
   ]
  },
  {
   "cell_type": "markdown",
   "metadata": {},
   "source": [
    "## Start Bot"
   ]
  },
  {
   "cell_type": "code",
   "execution_count": null,
   "metadata": {},
   "outputs": [],
   "source": [
    "app.run(port=8443)"
   ]
  },
  {
   "cell_type": "markdown",
   "metadata": {},
   "source": [
    "## Code:"
   ]
  },
  {
   "cell_type": "code",
   "execution_count": null,
   "metadata": {},
   "outputs": [],
   "source": [
    "import logging\n",
    "from flask import Flask, request\n",
    "from telegram.ext import Updater, CommandHandler, MessageHandler, Filters, Dispatcher\n",
    "from telegram import Bot, Update\n",
    "\n",
    "# enable logging\n",
    "logging.basicConfig(format='%(asctime)s - %(name)s - %(levelname)s - %(message)s', level=logging.INFO)\n",
    "logger = logging.getLogger(__name__)\n",
    "\n",
    "# telegram bot token\n",
    "TOKEN = \"751574535:AAEmH7gCd_fKSkE4cWt7cbrrQry8vX9fGf4\"\n",
    "\n",
    "app = Flask(__name__)\n",
    "\n",
    "\n",
    "@app.route('/')\n",
    "def index():\n",
    "    return \"Hello!\"\n",
    "\n",
    "\n",
    "@app.route(f'/{TOKEN}', methods=['GET', 'POST'])\n",
    "def webhook():\n",
    "    \"\"\"webhook view which receives updates from telegram\"\"\"\n",
    "    # create update object from json-format request data\n",
    "    update = Update.de_json(request.get_json(), bot)\n",
    "    # process update\n",
    "    dp.process_update(update)\n",
    "    return \"ok\"\n",
    "\n",
    "\n",
    "def start(bot, update):\n",
    "    \"\"\"callback function for /start handler\"\"\"\n",
    "    author = update.message.from_user.first_name\n",
    "    reply = \"Hi! {}\".format(author)\n",
    "    bot.send_message(chat_id=update.message.chat_id, text=reply)\n",
    "\n",
    "\n",
    "def _help(bot, update):\n",
    "    \"\"\"callback function for /help handler\"\"\"\n",
    "    help_txt = \"Hey! This is a help text.\"\n",
    "    bot.send_message(chat_id=update.message.chat_id, text=help_txt)\n",
    "\n",
    "\n",
    "def echo_text(bot, update):\n",
    "    \"\"\"callback function for text message handler\"\"\"\n",
    "    reply = update.message.text\n",
    "    bot.send_message(chat_id=update.message.chat_id, text=reply)\n",
    "\n",
    "\n",
    "def echo_sticker(bot, update):\n",
    "    \"\"\"callback function for sticker message handler\"\"\"\n",
    "    bot.send_sticker(chat_id=update.message.chat_id,\n",
    "                     sticker=update.message.sticker.file_id)\n",
    "\n",
    "\n",
    "def error(bot, update):\n",
    "    \"\"\"callback function for error handler\"\"\"\n",
    "    logger.error(\"Update '%s' caused error '%s'\", update, update.error)\n",
    "\n",
    "\n",
    "if __name__ == \"__main__\":\n",
    "    bot = Bot(TOKEN)\n",
    "    bot.set_webhook(\"https://yoururl.ngrok.io/\" + TOKEN)\n",
    "\n",
    "    dp = Dispatcher(bot, None)\n",
    "    dp.add_handler(CommandHandler(\"start\", start))\n",
    "    dp.add_handler(CommandHandler(\"help\", _help))\n",
    "    dp.add_handler(MessageHandler(Filters.text, echo_text))\n",
    "    dp.add_handler(MessageHandler(Filters.sticker, echo_sticker))\n",
    "    dp.add_error_handler(error)\n",
    "\n",
    "    app.run(port=8443)"
   ]
  }
 ],
 "metadata": {
  "kernelspec": {
   "display_name": "Python 3",
   "language": "python",
   "name": "python3"
  },
  "language_info": {
   "codemirror_mode": {
    "name": "ipython",
    "version": 3
   },
   "file_extension": ".py",
   "mimetype": "text/x-python",
   "name": "python",
   "nbconvert_exporter": "python",
   "pygments_lexer": "ipython3",
   "version": "3.7.3"
  },
  "toc": {
   "base_numbering": 1,
   "nav_menu": {},
   "number_sections": true,
   "sideBar": true,
   "skip_h1_title": false,
   "title_cell": "Table of Contents",
   "title_sidebar": "Contents",
   "toc_cell": false,
   "toc_position": {},
   "toc_section_display": true,
   "toc_window_display": false
  },
  "varInspector": {
   "cols": {
    "lenName": 16,
    "lenType": 16,
    "lenVar": 40
   },
   "kernels_config": {
    "python": {
     "delete_cmd_postfix": "",
     "delete_cmd_prefix": "del ",
     "library": "var_list.py",
     "varRefreshCmd": "print(var_dic_list())"
    },
    "r": {
     "delete_cmd_postfix": ") ",
     "delete_cmd_prefix": "rm(",
     "library": "var_list.r",
     "varRefreshCmd": "cat(var_dic_list()) "
    }
   },
   "types_to_exclude": [
    "module",
    "function",
    "builtin_function_or_method",
    "instance",
    "_Feature"
   ],
   "window_display": false
  }
 },
 "nbformat": 4,
 "nbformat_minor": 2
}
